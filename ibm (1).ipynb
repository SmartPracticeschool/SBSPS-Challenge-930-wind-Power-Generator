{
  "nbformat": 4,
  "nbformat_minor": 0,
  "metadata": {
    "kernelspec": {
      "display_name": "Python 3",
      "language": "python",
      "name": "python3"
    },
    "language_info": {
      "codemirror_mode": {
        "name": "ipython",
        "version": 3
      },
      "file_extension": ".py",
      "mimetype": "text/x-python",
      "name": "python",
      "nbconvert_exporter": "python",
      "pygments_lexer": "ipython3",
      "version": "3.7.4"
    },
    "colab": {
      "name": "ibm.ipynb",
      "provenance": []
    }
  },
  "cells": [
    {
      "cell_type": "code",
      "metadata": {
        "id": "lZwV4ef34c_q",
        "colab_type": "code",
        "colab": {}
      },
      "source": [
        "#!pip install tensorflow==2.0.0a0\n",
        "import pandas as pd\n",
        "#import keras\n",
        "import tensorflow.keras as keras \n",
        "from tensorflow.keras import layers\n",
        "from tensorflow.keras.layers import Dropout\n",
        "import tensorflow as tf\n",
        "import sklearn\n",
        "print(tf.__version__)\n",
        "from  tensorflow.keras.models import load_model\n",
        "model = load_model('/content/ibm3_best.h5')\n",
        "import joblib\n",
        "model = load_model(\"/content/ibm3_best.h5\")\n",
        "filename = 'finalized_model.sav'\n",
        "joblib.dump(model, open(filename, 'wb'))"
      ],
      "execution_count": null,
      "outputs": []
    },
    {
      "cell_type": "code",
      "metadata": {
        "id": "X573ezlU4c_w",
        "colab_type": "code",
        "colab": {
          "base_uri": "https://localhost:8080/",
          "height": 67
        },
        "outputId": "1f4f09cd-a587-4c76-fc9b-6ccae6406529"
      },
      "source": [
        "data = pd.read_csv(\"T1.csv\")\n",
        "data.columns"
      ],
      "execution_count": null,
      "outputs": [
        {
          "output_type": "execute_result",
          "data": {
            "text/plain": [
              "Index(['Date/Time', 'LV ActivePower (kW)', 'Wind Speed (m/s)',\n",
              "       'Theoretical_Power_Curve (KWh)', 'Wind Direction (°)'],\n",
              "      dtype='object')"
            ]
          },
          "metadata": {
            "tags": []
          },
          "execution_count": 5
        }
      ]
    },
    {
      "cell_type": "code",
      "metadata": {
        "id": "9t1Qqaja7BGq",
        "colab_type": "code",
        "colab": {}
      },
      "source": [
        ""
      ],
      "execution_count": null,
      "outputs": []
    },
    {
      "cell_type": "code",
      "metadata": {
        "id": "BluLZK9f4c_z",
        "colab_type": "code",
        "colab": {}
      },
      "source": [
        "data = data.drop('Date/Time',axis= 1)\n",
        "data = data.drop('Theoretical_Power_Curve (KWh)',axis= 1)"
      ],
      "execution_count": null,
      "outputs": []
    },
    {
      "cell_type": "code",
      "metadata": {
        "id": "eL5dl3M74c_3",
        "colab_type": "code",
        "colab": {
          "base_uri": "https://localhost:8080/",
          "height": 34
        },
        "outputId": "06942797-9c85-4d65-815a-dfea8568d056"
      },
      "source": [
        "data.columns"
      ],
      "execution_count": null,
      "outputs": [
        {
          "output_type": "execute_result",
          "data": {
            "text/plain": [
              "Index(['LV ActivePower (kW)', 'Wind Speed (m/s)', 'Wind Direction (°)'], dtype='object')"
            ]
          },
          "metadata": {
            "tags": []
          },
          "execution_count": 7
        }
      ]
    },
    {
      "cell_type": "code",
      "metadata": {
        "id": "5aj8VQ_T4c_5",
        "colab_type": "code",
        "colab": {}
      },
      "source": [
        "train_dataset = data.sample(frac=0.8,random_state=0)\n",
        "test_dataset = data.drop(train_dataset.index)"
      ],
      "execution_count": null,
      "outputs": []
    },
    {
      "cell_type": "code",
      "metadata": {
        "id": "xfi6E46b4c_7",
        "colab_type": "code",
        "colab": {
          "base_uri": "https://localhost:8080/",
          "height": 101
        },
        "outputId": "0573197d-e4fa-4011-9172-8c388face856"
      },
      "source": [
        "train_stats = train_dataset.describe()\n",
        "train_stats.pop(\"LV ActivePower (kW)\")\n",
        "train_stats = train_stats.transpose()\n",
        "print(train_stats)\n",
        "\n",
        "train_labels = train_dataset.pop('LV ActivePower (kW)')\n",
        "test_labels = test_dataset.pop('LV ActivePower (kW)')\n",
        "\n"
      ],
      "execution_count": null,
      "outputs": [
        {
          "output_type": "stream",
          "text": [
            "                      count        mean  ...         75%         max\n",
            "Wind Speed (m/s)    40424.0    7.549162  ...   10.293573   25.206011\n",
            "Wind Direction (°)  40424.0  123.516124  ...  201.474422  359.997589\n",
            "\n",
            "[2 rows x 8 columns]\n"
          ],
          "name": "stdout"
        }
      ]
    },
    {
      "cell_type": "code",
      "metadata": {
        "id": "OXo_kjub4c_-",
        "colab_type": "code",
        "colab": {
          "base_uri": "https://localhost:8080/",
          "height": 218
        },
        "outputId": "09366319-11d2-4e53-abdc-f71437269b45"
      },
      "source": [
        "print(train_labels)\n"
      ],
      "execution_count": null,
      "outputs": [
        {
          "output_type": "stream",
          "text": [
            "47469     576.656982\n",
            "4456     1619.301025\n",
            "49305    1876.581055\n",
            "48151    3367.349121\n",
            "33422     151.391693\n",
            "            ...     \n",
            "22623    3602.947998\n",
            "11095     977.577087\n",
            "10092    2012.953003\n",
            "26364    1071.803955\n",
            "1350        0.000000\n",
            "Name: LV ActivePower (kW), Length: 40424, dtype: float64\n"
          ],
          "name": "stdout"
        }
      ]
    },
    {
      "cell_type": "code",
      "metadata": {
        "id": "2qk3szo34dAB",
        "colab_type": "code",
        "colab": {
          "base_uri": "https://localhost:8080/",
          "height": 218
        },
        "outputId": "67223489-0c81-4197-a973-57ab22f9d6cb"
      },
      "source": [
        "print(test_labels)"
      ],
      "execution_count": null,
      "outputs": [
        {
          "output_type": "stream",
          "text": [
            "10        498.181702\n",
            "11        526.816223\n",
            "13        655.194275\n",
            "19        787.246216\n",
            "21        935.033386\n",
            "            ...     \n",
            "50506    1731.552979\n",
            "50509    1433.415039\n",
            "50520    2771.110107\n",
            "50524    3514.269043\n",
            "50527    2201.106934\n",
            "Name: LV ActivePower (kW), Length: 10106, dtype: float64\n"
          ],
          "name": "stdout"
        }
      ]
    },
    {
      "cell_type": "code",
      "metadata": {
        "id": "Tt1_huwo4dAE",
        "colab_type": "code",
        "colab": {}
      },
      "source": [
        "def norm(x):\n",
        "    return (x - train_stats['mean']) / train_stats['std']\n",
        "normed_train_data = norm(train_dataset)\n",
        "normed_test_data = norm(test_dataset)"
      ],
      "execution_count": null,
      "outputs": []
    },
    {
      "cell_type": "code",
      "metadata": {
        "id": "eGfQibEY4dAG",
        "colab_type": "code",
        "colab": {
          "base_uri": "https://localhost:8080/",
          "height": 252
        },
        "outputId": "e769655d-4020-41e9-bdc1-5ff1c9634f27"
      },
      "source": [
        "print(normed_test_data)"
      ],
      "execution_count": null,
      "outputs": [
        {
          "output_type": "stream",
          "text": [
            "       Wind Speed (m/s)  Wind Direction (°)\n",
            "10            -0.431739            1.373513\n",
            "11            -0.382041            1.519643\n",
            "13            -0.319222            1.532791\n",
            "19            -0.262971            1.434617\n",
            "21            -0.154035            1.353841\n",
            "...                 ...                 ...\n",
            "50506          0.266219           -0.485323\n",
            "50509         -0.013113           -0.452043\n",
            "50520          0.616339           -0.440742\n",
            "50524          1.185184           -0.460434\n",
            "50527          0.209642           -0.414978\n",
            "\n",
            "[10106 rows x 2 columns]\n"
          ],
          "name": "stdout"
        }
      ]
    },
    {
      "cell_type": "code",
      "metadata": {
        "id": "VpKQNO534dAI",
        "colab_type": "code",
        "colab": {
          "base_uri": "https://localhost:8080/",
          "height": 286
        },
        "outputId": "e171ec88-ab84-4b25-f6ee-f7b68b75658e"
      },
      "source": [
        "def build_model():\n",
        "    model = keras.Sequential([\n",
        "    layers.Dense(64, activation='relu', input_shape=[len(train_dataset.keys())]),\n",
        "    layers.Dense(64, activation='relu'),\n",
        "    Dropout(0.25),\n",
        "    #layers.Dense(128, activation='relu'),\n",
        "    #layers.Dense(256, activation='relu'),\n",
        "    \n",
        "    layers.Dense(1,activation = \"linear\")\n",
        "  ])\n",
        "\n",
        "    optimizer = keras.optimizers.RMSprop(0.0001)\n",
        "\n",
        "    model.compile(loss='mse',\n",
        "                optimizer='adam',\n",
        "                metrics=['mae', 'mse'])\n",
        "    return model\n",
        "\n",
        "model = build_model()\n",
        "\n",
        "model.summary()\n",
        "\n",
        "example_batch = normed_train_data[:10]\n",
        "example_result = model.predict(example_batch)\n",
        "example_result\n",
        "\n",
        "# Display training progress by printing a single dot for each completed epoch\n",
        "class PrintDot(keras.callbacks.Callback):\n",
        "    def on_epoch_end(self, epoch, logs):\n",
        "        if epoch % 100 == 0: print('')\n",
        "        print('.', end='')\n",
        "\n",
        "EPOCHS = 150\n",
        "\n",
        "history = model.fit(\n",
        "  normed_train_data, train_labels,\n",
        "  epochs=EPOCHS, validation_split = 0.2, verbose=0)\n"
      ],
      "execution_count": null,
      "outputs": [
        {
          "output_type": "stream",
          "text": [
            "Model: \"sequential\"\n",
            "_________________________________________________________________\n",
            "Layer (type)                 Output Shape              Param #   \n",
            "=================================================================\n",
            "dense (Dense)                (None, 64)                192       \n",
            "_________________________________________________________________\n",
            "dense_1 (Dense)              (None, 64)                4160      \n",
            "_________________________________________________________________\n",
            "dropout (Dropout)            (None, 64)                0         \n",
            "_________________________________________________________________\n",
            "dense_2 (Dense)              (None, 1)                 65        \n",
            "=================================================================\n",
            "Total params: 4,417\n",
            "Trainable params: 4,417\n",
            "Non-trainable params: 0\n",
            "_________________________________________________________________\n"
          ],
          "name": "stdout"
        }
      ]
    },
    {
      "cell_type": "code",
      "metadata": {
        "id": "sAuEQpc04dAL",
        "colab_type": "code",
        "colab": {
          "base_uri": "https://localhost:8080/",
          "height": 34
        },
        "outputId": "566a7245-d3bf-4155-c03c-b712e467011a"
      },
      "source": [
        "loss, mae, mse = model.evaluate(normed_test_data, test_labels, verbose=0)\n",
        "#\n",
        "print(\"Testing set Mean Abs Error: {:5.2f} \".format(mae))\n",
        "\n",
        "test_predictions = model.predict(normed_test_data).flatten()"
      ],
      "execution_count": null,
      "outputs": [
        {
          "output_type": "stream",
          "text": [
            "Testing set Mean Abs Error: 154.35 \n"
          ],
          "name": "stdout"
        }
      ]
    },
    {
      "cell_type": "code",
      "metadata": {
        "id": "2WX5kJ6k4dAO",
        "colab_type": "code",
        "colab": {
          "base_uri": "https://localhost:8080/",
          "height": 50
        },
        "outputId": "97a17a1e-a152-4f93-f685-3d9affc2f139"
      },
      "source": [
        "test_predictions"
      ],
      "execution_count": null,
      "outputs": [
        {
          "output_type": "execute_result",
          "data": {
            "text/plain": [
              "array([ 436.4248 ,  496.5943 ,  578.92017, ..., 2361.6362 , 3425.8855 ,\n",
              "       1517.4164 ], dtype=float32)"
            ]
          },
          "metadata": {
            "tags": []
          },
          "execution_count": 16
        }
      ]
    },
    {
      "cell_type": "code",
      "metadata": {
        "id": "L9SZvR3m4dAR",
        "colab_type": "code",
        "colab": {
          "base_uri": "https://localhost:8080/",
          "height": 218
        },
        "outputId": "2e17f706-464f-445c-bb34-8ba095173019"
      },
      "source": [
        "test_labels"
      ],
      "execution_count": null,
      "outputs": [
        {
          "output_type": "execute_result",
          "data": {
            "text/plain": [
              "10        498.181702\n",
              "11        526.816223\n",
              "13        655.194275\n",
              "19        787.246216\n",
              "21        935.033386\n",
              "            ...     \n",
              "50506    1731.552979\n",
              "50509    1433.415039\n",
              "50520    2771.110107\n",
              "50524    3514.269043\n",
              "50527    2201.106934\n",
              "Name: LV ActivePower (kW), Length: 10106, dtype: float64"
            ]
          },
          "metadata": {
            "tags": []
          },
          "execution_count": 17
        }
      ]
    },
    {
      "cell_type": "code",
      "metadata": {
        "id": "6Mhi6uDfCuzg",
        "colab_type": "code",
        "colab": {
          "base_uri": "https://localhost:8080/",
          "height": 178
        },
        "outputId": "39cd4813-700b-40c9-f39d-3b87a7b63036"
      },
      "source": [
        "filename = 'model.pkl'\n",
        "pickle.dump(model, open(filename, 'wb'))"
      ],
      "execution_count": null,
      "outputs": [
        {
          "output_type": "error",
          "ename": "TypeError",
          "evalue": "ignored",
          "traceback": [
            "\u001b[0;31m---------------------------------------------------------------------------\u001b[0m",
            "\u001b[0;31mTypeError\u001b[0m                                 Traceback (most recent call last)",
            "\u001b[0;32m<ipython-input-18-f1f4c40eb55c>\u001b[0m in \u001b[0;36m<module>\u001b[0;34m()\u001b[0m\n\u001b[1;32m      1\u001b[0m \u001b[0mfilename\u001b[0m \u001b[0;34m=\u001b[0m \u001b[0;34m'model.pkl'\u001b[0m\u001b[0;34m\u001b[0m\u001b[0;34m\u001b[0m\u001b[0m\n\u001b[0;32m----> 2\u001b[0;31m \u001b[0mpickle\u001b[0m\u001b[0;34m.\u001b[0m\u001b[0mdump\u001b[0m\u001b[0;34m(\u001b[0m\u001b[0mmodel\u001b[0m\u001b[0;34m,\u001b[0m \u001b[0mopen\u001b[0m\u001b[0;34m(\u001b[0m\u001b[0mfilename\u001b[0m\u001b[0;34m,\u001b[0m \u001b[0;34m'wb'\u001b[0m\u001b[0;34m)\u001b[0m\u001b[0;34m)\u001b[0m\u001b[0;34m\u001b[0m\u001b[0;34m\u001b[0m\u001b[0m\n\u001b[0m",
            "\u001b[0;31mTypeError\u001b[0m: can't pickle _thread.RLock objects"
          ]
        }
      ]
    },
    {
      "cell_type": "code",
      "metadata": {
        "id": "w_srgr_D4dAT",
        "colab_type": "code",
        "colab": {},
        "outputId": "f5adaca8-5189-4a73-e580-1114cc55abc4"
      },
      "source": [
        "import matplotlib.pyplot as plt \n",
        "plt.scatter(test_labels, test_predictions)\n",
        "plt.xlabel('True Values [MPG]')\n",
        "plt.ylabel('Predictions [MPG]')\n",
        "plt.axis('equal')\n",
        "plt.axis('square')\n",
        "plt.xlim([0,plt.xlim()[1]])\n",
        "plt.ylim([0,plt.ylim()[1]])\n",
        "plt.plot([-100, 100], [-100, 100])\n",
        "plt.show()\n",
        "error = test_predictions - test_labels\n",
        "plt.hist(error, bins = 25)\n",
        "plt.xlabel(\"Prediction Error [MPG]\")\n",
        "plt.ylabel(\"Count\")\n",
        "plt.show()"
      ],
      "execution_count": null,
      "outputs": [
        {
          "output_type": "display_data",
          "data": {
            "image/png": "[encoded data removed]",
            "text/plain": [
              "<Figure size 432x288 with 1 Axes>"
            ]
          },
          "metadata": {
            "tags": [],
            "needs_background": "light"
          }
        },
        {
          "output_type": "display_data",
          "data": {
            "image/png": "[encoded data removed]",
            "text/plain": [
              "<Figure size 432x288 with 1 Axes>"
            ]
          },
          "metadata": {
            "tags": [],
            "needs_background": "light"
          }
        }
      ]
    },
    {
      "cell_type": "code",
      "metadata": {
        "id": "3MlXAxB64dAW",
        "colab_type": "code",
        "colab": {}
      },
      "source": [
        ""
      ],
      "execution_count": null,
      "outputs": []
    },
    {
      "cell_type": "code",
      "metadata": {
        "id": "5KURYADU4dAa",
        "colab_type": "code",
        "colab": {}
      },
      "source": [
        ""
      ],
      "execution_count": null,
      "outputs": []
    },
    {
      "cell_type": "code",
      "metadata": {
        "id": "IInM9kQ34dAe",
        "colab_type": "code",
        "colab": {}
      },
      "source": [
        "model.save('ibm3_best.h5')"
      ],
      "execution_count": null,
      "outputs": []
    },
    {
      "cell_type": "code",
      "metadata": {
        "id": "R75jA5An4dAi",
        "colab_type": "code",
        "colab": {}
      },
      "source": [
        "from keras.models import load_model\n",
        "load = load_model(\"ibm3_best.h5\")"
      ],
      "execution_count": null,
      "outputs": []
    },
    {
      "cell_type": "code",
      "metadata": {
        "id": "QYyl3ytB4dAk",
        "colab_type": "code",
        "colab": {
          "base_uri": "https://localhost:8080/",
          "height": 286
        },
        "outputId": "aa966862-c431-40ee-d4b9-18680f2f513f"
      },
      "source": [
        "#linear regression model \n",
        "from sklearn import linear_model\n",
        "import numpy as np\n",
        "lr =  linear_model.LinearRegression()\n",
        "#train_x = np.asanyarray(train[['ENGINESIZE']])\n",
        "#train_y = np.asanyarray(train[['CO2EMISSIONS']])\n",
        "lr.fit (normed_train_data, train_labels)\n",
        "# The coefficients\n",
        "print ('Coefficients: ', lr.coef_)\n",
        "print ('Intercept: ',lr.intercept_)\n",
        "\n",
        "test_y_ = lr.predict(normed_test_data)\n",
        "\n",
        "#print(\"Mean absolute error: %.2f\" % np.mean(np.absolute(test_y_ - normed_test_data)))\n",
        "#print(\"Residual sum of squares (MSE): %.2f\" % np.mean((test_y_ - normed_test_data) ** 2))\n",
        "#print(\"R2-score: %.2f\" % r2_score(test_y_ , normed_test_data) )\n",
        "print(test_y_)\n",
        "print(test_labels)"
      ],
      "execution_count": null,
      "outputs": [
        {
          "output_type": "stream",
          "text": [
            "Coefficients:  [1196.25215527   10.69455028]\n",
            "Intercept:  1303.8065071247936\n",
            "[ 802.02666992  863.04074476  938.32844386 ... 2036.39020609 2716.66184061\n",
            " 1550.1526064 ]\n",
            "10        498.181702\n",
            "11        526.816223\n",
            "13        655.194275\n",
            "19        787.246216\n",
            "21        935.033386\n",
            "            ...     \n",
            "50506    1731.552979\n",
            "50509    1433.415039\n",
            "50520    2771.110107\n",
            "50524    3514.269043\n",
            "50527    2201.106934\n",
            "Name: LV ActivePower (kW), Length: 10106, dtype: float64\n"
          ],
          "name": "stdout"
        }
      ]
    },
    {
      "cell_type": "code",
      "metadata": {
        "id": "9Aefkt4oa0k_",
        "colab_type": "code",
        "colab": {}
      },
      "source": [
        ""
      ],
      "execution_count": null,
      "outputs": []
    }
  ]
}